{
 "cells": [
  {
   "cell_type": "code",
   "execution_count": 1,
   "metadata": {
    "id": "gx3PKO1cr084"
   },
   "outputs": [],
   "source": [
    "import numpy as np\n",
    "import random\n",
    "from PIL import Image\n",
    "import matplotlib.pyplot as plt\n",
    "%matplotlib inline"
   ]
  },
  {
   "cell_type": "code",
   "execution_count": 2,
   "metadata": {
    "id": "wY0sbuRnol9T"
   },
   "outputs": [],
   "source": [
    "image = Image.open('E:MSDS/MS-2/ML/face.jpg')\n",
    "img_array = np.array(image)\n",
    "rows, cols, bands = img_array.shape\n",
    "X = img_array.reshape(rows * cols, bands)"
   ]
  },
  {
   "cell_type": "code",
   "execution_count": 3,
   "metadata": {
    "id": "bYiwtDlTol_-"
   },
   "outputs": [
    {
     "data": {
      "text/plain": [
       "array([[244, 240, 241],\n",
       "       [244, 240, 241],\n",
       "       [244, 240, 241],\n",
       "       [245, 241, 242],\n",
       "       [245, 241, 242]], dtype=uint8)"
      ]
     },
     "execution_count": 3,
     "metadata": {},
     "output_type": "execute_result"
    }
   ],
   "source": [
    "X[0:5,:]"
   ]
  },
  {
   "cell_type": "code",
   "execution_count": 4,
   "metadata": {
    "id": "Ncp5IvmbomC6"
   },
   "outputs": [],
   "source": [
    "'''\n",
    "data = np.array([\n",
    "    [1,0],\n",
    "    [1,1],\n",
    "    [2,0],\n",
    "    [5,0],\n",
    "    [5,1],\n",
    "    [5,3]\n",
    "])\n",
    "'''\n",
    "data=X"
   ]
  },
  {
   "cell_type": "code",
   "execution_count": 5,
   "metadata": {
    "id": "BZAcAa4HomFq"
   },
   "outputs": [],
   "source": [
    "def calculate_distances(data,means):\n",
    "    cost = np.zeros([data.shape[0],k])\n",
    "    i = 0\n",
    "    for m in temp_means:\n",
    "        cost[0:data.shape[0],i]=np.sum(np.square(data - m),axis=1)\n",
    "        i+=1\n",
    "    return cost\n"
   ]
  },
  {
   "cell_type": "code",
   "execution_count": 6,
   "metadata": {
    "colab": {
     "base_uri": "https://localhost:8080/",
     "height": 1000
    },
    "id": "kEZ4JEKXomJD",
    "outputId": "7ee9ee09-3913-4921-c5e5-603f241fb5e3"
   },
   "outputs": [],
   "source": [
    "def assign_cluster(distances,book_keeping):\n",
    "    for i in range(book_keeping.shape[0]):\n",
    "        book_keeping[i,np.argmin(distances[i])] = 1\n",
    "    return book_keeping  "
   ]
  },
  {
   "cell_type": "code",
   "execution_count": 7,
   "metadata": {},
   "outputs": [],
   "source": [
    "def preditc(data,means):\n",
    "    label = []\n",
    "    for point in data:\n",
    "        dist=[]\n",
    "        for m in means:\n",
    "            d = point - m\n",
    "            dist.append(np.mean(np.square(d)))\n",
    "        label.append(np.argmin(dist))  \n",
    "    return label "
   ]
  },
  {
   "cell_type": "code",
   "execution_count": 8,
   "metadata": {},
   "outputs": [
    {
     "name": "stdout",
     "output_type": "stream",
     "text": [
      "StartedMeans:\n",
      "[[143  93  60]\n",
      " [228 225 210]]\n",
      "Trained Means:\n",
      "[[151.43409045 115.40492125  89.76620699]\n",
      " [201.80347614 177.77539239 163.51702187]]\n"
     ]
    },
    {
     "data": {
      "text/plain": [
       "<matplotlib.image.AxesImage at 0x1c0c0e83fd0>"
      ]
     },
     "execution_count": 8,
     "metadata": {},
     "output_type": "execute_result"
    },
    {
     "data": {
      "image/png": "[encoded data removed]",
      "text/plain": [
       "<Figure size 432x288 with 1 Axes>"
      ]
     },
     "metadata": {
      "needs_background": "light"
     },
     "output_type": "display_data"
    }
   ],
   "source": [
    "k=2\n",
    "book_keeping = np.zeros([data.shape[0],k],dtype='int')\n",
    "indices = np.random.choice(data.shape[0], size=k, replace=False)\n",
    "means = data[indices]\n",
    "temp_means = means\n",
    "print(\"StartedMeans:\")\n",
    "print(temp_means)\n",
    "b=False\n",
    "while(b==False):\n",
    "    distances = calculate_distances(data,temp_means)\n",
    "    book_keeping = assign_cluster(distances,book_keeping)\n",
    "    totals = np.sum(book_keeping,axis=0)\n",
    "    temp_means = np.divide(np.dot(data.T,book_keeping),totals).T\n",
    "    if np.array_equal(temp_means,means):\n",
    "        print(\"Trained Means:\")\n",
    "        print(means)\n",
    "        break\n",
    "        \n",
    "    else:\n",
    "        means = temp_means\n",
    "labels = np.array(preditc(data,means))\n",
    "means_image = []\n",
    "for i in labels:\n",
    "    means_image.append(means[i])  \n",
    "results=(np.array(means_image)).astype(np.uint8)  \n",
    "results=results.reshape(rows,cols,bands)\n",
    "plt.imshow(results)   "
   ]
  },
  {
   "cell_type": "code",
   "execution_count": null,
   "metadata": {},
   "outputs": [],
   "source": []
  }
 ],
 "metadata": {
  "colab": {
   "provenance": []
  },
  "kernelspec": {
   "display_name": "Python 3 (ipykernel)",
   "language": "python",
   "name": "python3"
  },
  "language_info": {
   "codemirror_mode": {
    "name": "ipython",
    "version": 3
   },
   "file_extension": ".py",
   "mimetype": "text/x-python",
   "name": "python",
   "nbconvert_exporter": "python",
   "pygments_lexer": "ipython3",
   "version": "3.9.7"
  },
  "varInspector": {
   "cols": {
    "lenName": 16,
    "lenType": 16,
    "lenVar": 40
   },
   "kernels_config": {
    "python": {
     "delete_cmd_postfix": "",
     "delete_cmd_prefix": "del ",
     "library": "var_list.py",
     "varRefreshCmd": "print(var_dic_list())"
    },
    "r": {
     "delete_cmd_postfix": ") ",
     "delete_cmd_prefix": "rm(",
     "library": "var_list.r",
     "varRefreshCmd": "cat(var_dic_list()) "
    }
   },
   "types_to_exclude": [
    "module",
    "function",
    "builtin_function_or_method",
    "instance",
    "_Feature"
   ],
   "window_display": false
  }
 },
 "nbformat": 4,
 "nbformat_minor": 1
}
